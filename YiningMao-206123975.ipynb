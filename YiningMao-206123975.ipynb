{
  "cells": [
    {
      "cell_type": "code",
      "execution_count": 71,
      "metadata": {
        "id": "Q2A8TGhKm3i5"
      },
      "outputs": [],
      "source": [
        "import openai\n",
        "import os\n",
        "import wikipedia"
      ]
    },
    {
      "cell_type": "markdown",
      "metadata": {
        "id": "7E9HEMJSX-3T"
      },
      "source": [
        "# 1.) Set up OpenAI and the enviornment\n"
      ]
    },
    {
      "cell_type": "code",
      "execution_count": 72,
      "metadata": {
        "id": "4zwwdkZDYDZN"
      },
      "outputs": [],
      "source": [
        "# DONE"
      ]
    },
    {
      "cell_type": "code",
      "execution_count": 74,
      "metadata": {},
      "outputs": [],
      "source": [
        "openai.api_key = apikey"
      ]
    },
    {
      "cell_type": "code",
      "execution_count": 75,
      "metadata": {},
      "outputs": [],
      "source": [
        "client = openai.OpenAI(api_key=openai.api_key)"
      ]
    },
    {
      "cell_type": "markdown",
      "metadata": {
        "id": "tOXc5_BTm9HP"
      },
      "source": [
        "# 2.) Use the wikipedia api to get a function that pulls in the text of a wikipedia page"
      ]
    },
    {
      "cell_type": "code",
      "execution_count": 76,
      "metadata": {},
      "outputs": [],
      "source": [
        "page_titles = ['Artificial Intelligence', 'Machine Learning']"
      ]
    },
    {
      "cell_type": "code",
      "execution_count": 77,
      "metadata": {},
      "outputs": [],
      "source": [
        "page_title = page_titles[0]"
      ]
    },
    {
      "cell_type": "code",
      "execution_count": 78,
      "metadata": {},
      "outputs": [],
      "source": [
        "search_results = wikipedia.search(page_title)"
      ]
    },
    {
      "cell_type": "code",
      "execution_count": 79,
      "metadata": {
        "id": "-v7OYamHlrEB"
      },
      "outputs": [
        {
          "data": {
            "text/plain": [
              "<WikipediaPage 'Artificial intelligence'>"
            ]
          },
          "execution_count": 79,
          "metadata": {},
          "output_type": "execute_result"
        }
      ],
      "source": [
        "wikipedia.page(search_results[0])\n"
      ]
    },
    {
      "cell_type": "code",
      "execution_count": 80,
      "metadata": {
        "id": "TgY2FkTdmhTH"
      },
      "outputs": [],
      "source": [
        "page = wikipedia.page(search_results[0])"
      ]
    },
    {
      "cell_type": "code",
      "execution_count": null,
      "metadata": {
        "id": "Kw5H5jMlmmS3"
      },
      "outputs": [],
      "source": [
        "dir(page)"
      ]
    },
    {
      "cell_type": "code",
      "execution_count": null,
      "metadata": {
        "id": "ZF3BiZyXltYO"
      },
      "outputs": [],
      "source": [
        "page.content"
      ]
    },
    {
      "cell_type": "code",
      "execution_count": 83,
      "metadata": {
        "id": "Ef7yfa2jl0iZ"
      },
      "outputs": [],
      "source": [
        "def get_wikipedia_page_content(page_title):\n",
        "    search_results = wikipedia.search(page_title)\n",
        "    page = wikipedia.page(search_results[0])\n",
        "    return page.content"
      ]
    },
    {
      "cell_type": "code",
      "execution_count": null,
      "metadata": {},
      "outputs": [],
      "source": []
    },
    {
      "cell_type": "markdown",
      "metadata": {
        "id": "_9aruncMmubX"
      },
      "source": [
        "# 3.) Build a chatgpt bot that will analyze the text given and try to locate any false info"
      ]
    },
    {
      "cell_type": "code",
      "execution_count": 84,
      "metadata": {},
      "outputs": [],
      "source": [
        "wiki_content = get_wikipedia_page_content(page_title)"
      ]
    },
    {
      "cell_type": "code",
      "execution_count": 85,
      "metadata": {
        "id": "Bmai3B6Dmw3O"
      },
      "outputs": [],
      "source": [
        "def chatgpt_error_correction(wiki_content):\n",
        "    chat_completion = client.chat.completions.create(\n",
        "        model = 'gpt-3.5-turbo',\n",
        "        messages = [\n",
        "            {\n",
        "                \"role\": \"system\",\n",
        "                \"content\": \"I will be giving you an article and let me know if anything is potentially false. Go with a fine tooth comb and have low sensitivity for locating potential errors\"\n",
        "            },\n",
        "            {\n",
        "                \"role\": \"user\",\n",
        "                \"content\": wiki_content\n",
        "            }\n",
        "        ]\n",
        "        \n",
        "    )\n",
        "    return chat_completion.choices[0].message.content"
      ]
    },
    {
      "cell_type": "code",
      "execution_count": null,
      "metadata": {
        "id": "6FKAJVXSoayA"
      },
      "outputs": [],
      "source": []
    },
    {
      "cell_type": "markdown",
      "metadata": {
        "id": "zPw5LyPEobmk"
      },
      "source": [
        "# 4.) Make a for loop and check a few wikipedia pages and return a report of any potentially false info via wikipedia"
      ]
    },
    {
      "cell_type": "code",
      "execution_count": 86,
      "metadata": {},
      "outputs": [],
      "source": [
        "def split_text(text, chunk_size=8192):\n",
        "    chunks = len(text) // chunk_size + 1\n",
        "    return [text[i*chunk_size:(i+1)*chunk_size] for i in range(0, chunks-1)]"
      ]
    },
    {
      "cell_type": "code",
      "execution_count": 87,
      "metadata": {},
      "outputs": [
        {
          "name": "stdout",
          "output_type": "stream",
          "text": [
            "The information provided in the article appears to be factually accurate and does not contain any potential errors or false statements.\n"
          ]
        }
      ],
      "source": [
        "page_titles = ['Artificial Intelligence', 'Parakeet', 'UCLA']\n",
        "page_title = page_titles[0]\n",
        "text = get_wikipedia_page_content(page_title)\n",
        "chat_completion = chatgpt_error_correction(wiki_content[:8192])\n",
        "print(chatgpt_error_correction(text[:8192]))\n"
      ]
    },
    {
      "cell_type": "code",
      "execution_count": 88,
      "metadata": {},
      "outputs": [
        {
          "name": "stdout",
          "output_type": "stream",
          "text": [
            "____________Artificial Intelligence____________\n",
            "The information provided in the article does not contain any potentially false statements.\n",
            "____________Parakeet____________\n",
            "Everything in the article appears to be factually accurate and well-researched. No potential errors were found upon review.\n",
            "____________UCLA____________\n",
            "There are several potentially false statements or inaccuracies in the text provided:\n",
            "\n",
            "1. The article incorrectly states that the University of California, Los Angeles (UCLA) evolved from the California State Normal School in San José. In fact, the Southern Branch of the California State Normal School eventually evolved into San José State University, not UCLA.\n",
            "  \n",
            "2. The statement that UCLA is the most applied-to university in the United States based on receiving 174,914 undergraduate applications for Fall 2022 may not be accurate as application numbers can fluctuate annually and other universities also receive a high number of applications.\n",
            "  \n",
            "3. The article mentions that UCLA has \"410 Bruins\" who have made Olympic teams. It may need clarification as it is not clear what \"Bruins\" refer to in this context.\n",
            "  \n",
            "4. The claim that UCLA has had a gold medalist in every Olympics in which the U.S. has participated since 1932 may need further verification for accuracy.\n",
            "  \n",
            "5. The article states that UCLA was considered a Public Ivy. While this term is used to refer to publicly-funded universities offering quality education comparable to that of the private Ivy League, the designation of UCLA as a Public Ivy may vary in different sources.\n",
            "\n",
            "6. The article mentions that UCLA was elected to the Association of American Universities in 1974. This may need to be revised as being a member of the Association of American Universities (AAU) is typically through an invitation extended to universities meeting specific criteria rather than through an election.\n",
            "\n",
            "7. The paragraph detailing the history of UCLA and its transition from a southern branch of the California State Normal School to becoming the University of California at Los Angeles may need fact-checking for accuracy and completeness.\n",
            "\n",
            "8. The article briefly mentions a murder-suicide incident at UCLA in 2016 and a threat of violence against students and faculty in 2022. These events may need further context or clarification.\n"
          ]
        }
      ],
      "source": [
        "for page_title in page_titles:\n",
        "    print('____________'+page_title+'____________')\n",
        "    try:\n",
        "        text = get_wikipedia_page_content(page_title)\n",
        "        print(chatgpt_error_correction(text[:8192]))\n",
        "    except:\n",
        "        print('Error')\n",
        " "
      ]
    },
    {
      "cell_type": "code",
      "execution_count": null,
      "metadata": {},
      "outputs": [],
      "source": []
    }
  ],
  "metadata": {
    "colab": {
      "provenance": []
    },
    "kernelspec": {
      "display_name": "Python 3",
      "name": "python3"
    },
    "language_info": {
      "codemirror_mode": {
        "name": "ipython",
        "version": 3
      },
      "file_extension": ".py",
      "mimetype": "text/x-python",
      "name": "python",
      "nbconvert_exporter": "python",
      "pygments_lexer": "ipython3",
      "version": "3.10.9"
    }
  },
  "nbformat": 4,
  "nbformat_minor": 0
}
